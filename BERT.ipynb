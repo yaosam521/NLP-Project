{
 "cells": [
  {
   "cell_type": "code",
   "execution_count": 66,
   "id": "42c59e43-d618-4eed-9c25-6b62657e0339",
   "metadata": {},
   "outputs": [],
   "source": [
    "import tensorflow as tf\n",
    "import pandas as pd\n",
    "\n",
    "#df_4forums = pd.read_json('4ForumsResults.json') # This file is too large to go through git\n",
    "#df_conme = pd.read_excel('convinceMe.xlsx')\n",
    "df_credb = pd.read_excel('createDebate.xlsx')\n"
   ]
  },
  {
   "cell_type": "code",
   "execution_count": 2,
   "id": "4108d050-b1fb-443d-92fa-bf0ad9849b19",
   "metadata": {
    "scrolled": true,
    "tags": []
   },
   "outputs": [
    {
     "name": "stdout",
     "output_type": "stream",
     "text": [
      "Requirement already satisfied: transformers in /users/samyao/.conda/envs/ML/lib/python3.9/site-packages (4.24.0)\n",
      "Requirement already satisfied: packaging>=20.0 in /users/samyao/.conda/envs/ML/lib/python3.9/site-packages (from transformers) (23.0)\n",
      "Requirement already satisfied: pyyaml>=5.1 in /users/samyao/.conda/envs/ML/lib/python3.9/site-packages (from transformers) (6.0)\n",
      "Requirement already satisfied: regex!=2019.12.17 in /users/samyao/.conda/envs/ML/lib/python3.9/site-packages (from transformers) (2022.7.9)\n",
      "Requirement already satisfied: tokenizers!=0.11.3,<0.14,>=0.11.1 in /users/samyao/.conda/envs/ML/lib/python3.9/site-packages (from transformers) (0.11.4)\n",
      "Requirement already satisfied: filelock in /users/samyao/.conda/envs/ML/lib/python3.9/site-packages (from transformers) (3.9.0)\n",
      "Requirement already satisfied: requests in /users/samyao/.conda/envs/ML/lib/python3.9/site-packages (from transformers) (2.29.0)\n",
      "Requirement already satisfied: numpy>=1.17 in /users/samyao/.conda/envs/ML/lib/python3.9/site-packages (from transformers) (1.21.5)\n",
      "Requirement already satisfied: tqdm>=4.27 in /users/samyao/.conda/envs/ML/lib/python3.9/site-packages (from transformers) (4.65.0)\n",
      "Requirement already satisfied: huggingface-hub<1.0,>=0.10.0 in /users/samyao/.conda/envs/ML/lib/python3.9/site-packages (from transformers) (0.10.1)\n",
      "Requirement already satisfied: typing-extensions>=3.7.4.3 in /users/samyao/.conda/envs/ML/lib/python3.9/site-packages (from huggingface-hub<1.0,>=0.10.0->transformers) (4.5.0)\n",
      "Requirement already satisfied: idna<4,>=2.5 in /users/samyao/.conda/envs/ML/lib/python3.9/site-packages (from requests->transformers) (3.4)\n",
      "Requirement already satisfied: charset-normalizer<4,>=2 in /users/samyao/.conda/envs/ML/lib/python3.9/site-packages (from requests->transformers) (2.0.4)\n",
      "Requirement already satisfied: urllib3<1.27,>=1.21.1 in /users/samyao/.conda/envs/ML/lib/python3.9/site-packages (from requests->transformers) (1.26.15)\n",
      "Requirement already satisfied: certifi>=2017.4.17 in /users/samyao/.conda/envs/ML/lib/python3.9/site-packages (from requests->transformers) (2022.12.7)\n",
      "Note: you may need to restart the kernel to use updated packages.\n"
     ]
    },
    {
     "name": "stderr",
     "output_type": "stream",
     "text": [
      "Some weights of the model checkpoint at bert-base-uncased were not used when initializing BertModel: ['cls.predictions.transform.dense.bias', 'cls.predictions.transform.LayerNorm.bias', 'cls.predictions.bias', 'cls.seq_relationship.bias', 'cls.seq_relationship.weight', 'cls.predictions.decoder.weight', 'cls.predictions.transform.dense.weight', 'cls.predictions.transform.LayerNorm.weight']\n",
      "- This IS expected if you are initializing BertModel from the checkpoint of a model trained on another task or with another architecture (e.g. initializing a BertForSequenceClassification model from a BertForPreTraining model).\n",
      "- This IS NOT expected if you are initializing BertModel from the checkpoint of a model that you expect to be exactly identical (initializing a BertForSequenceClassification model from a BertForSequenceClassification model).\n"
     ]
    }
   ],
   "source": [
    "# install transformers if not already installed\n",
    "%pip install transformers\n",
    "\n",
    "#import the BERT model and tokenizer\n",
    "from transformers import BertModel, BertTokenizer\n",
    "\n",
    "if 'bertModel' not in locals() or 'tokenizer' not in locals():\n",
    "    #BERT base model\n",
    "    bertModel = BertModel.from_pretrained('bert-base-uncased')\n",
    "    \n",
    "    #BERT Tokenizer\n",
    "    tokenizer = BertTokenizer.from_pretrained('bert-base-uncased')"
   ]
  },
  {
   "cell_type": "code",
   "execution_count": 67,
   "id": "c0b6e797-21d5-4114-a65d-601368f9bf1b",
   "metadata": {},
   "outputs": [
    {
     "data": {
      "text/plain": [
       "unknown                       3051\n",
       "prefers strict gun control    3051\n",
       "opposes strict gun control    3051\n",
       "undecided                     3051\n",
       "other                         3051\n",
       "Name: stance, dtype: int64"
      ]
     },
     "execution_count": 67,
     "metadata": {},
     "output_type": "execute_result"
    }
   ],
   "source": [
    "df_credb.stance.value_counts()"
   ]
  },
  {
   "cell_type": "code",
   "execution_count": 68,
   "id": "e22a5d8c-d124-4473-b1fc-bc27c32909a9",
   "metadata": {},
   "outputs": [],
   "source": [
    "import torch\n",
    "import torch.nn as nn\n",
    "import torch.optim as optim\n",
    "from torch.utils.data import DataLoader, Dataset"
   ]
  },
  {
   "cell_type": "code",
   "execution_count": 69,
   "id": "b5920349-1ec1-4a29-866e-756d6f689d88",
   "metadata": {},
   "outputs": [],
   "source": [
    "class BertClassifier(nn.Module):\n",
    "    def __init__(self, num_classes):\n",
    "        super().__init__()\n",
    "        self.bert = model\n",
    "        self.dropout = nn.Dropout(0.1)\n",
    "        self.fc = nn.Linear(768, num_classes)\n",
    "\n",
    "    def forward(self, input_ids, attention_mask):\n",
    "        outputs = self.bert(input_ids=input_ids, attention_mask=attention_mask)\n",
    "        pooled_output = outputs[1]\n",
    "        pooled_output = self.dropout(pooled_output)\n",
    "        logits = self.fc(pooled_output)\n",
    "        return logits"
   ]
  },
  {
   "cell_type": "markdown",
   "id": "798ac596-3ae3-4b31-a25b-108cf19a4ba0",
   "metadata": {},
   "source": [
    "I'm gonna work with the \"Create Debate\" Dataset for now to save time"
   ]
  },
  {
   "cell_type": "code",
   "execution_count": 108,
   "id": "ea2854b6-02fe-4386-8278-c0f3dfbf63c6",
   "metadata": {},
   "outputs": [
    {
     "data": {
      "text/plain": [
       "prefers strict gun control    3051\n",
       "opposes strict gun control    3051\n",
       "Name: stance, dtype: int64"
      ]
     },
     "execution_count": 108,
     "metadata": {},
     "output_type": "execute_result"
    }
   ],
   "source": [
    "df_credb.stance.value_counts()"
   ]
  },
  {
   "cell_type": "code",
   "execution_count": 109,
   "id": "86910e78-2a74-43ba-852f-567f2eaafa8d",
   "metadata": {},
   "outputs": [],
   "source": [
    "df_credb = df_credb.query(\"stance == 'prefers strict gun control' | stance == 'opposes strict gun control'\")"
   ]
  },
  {
   "cell_type": "code",
   "execution_count": 110,
   "id": "02218871-67a4-480b-aebf-5f4517a6c05a",
   "metadata": {},
   "outputs": [],
   "source": [
    "df_credb = df_credb[[\"text\", \"stance\"]]"
   ]
  },
  {
   "cell_type": "code",
   "execution_count": 111,
   "id": "a36ffa65-5579-4ee0-b8f0-66234ebc0d5c",
   "metadata": {},
   "outputs": [
    {
     "data": {
      "text/html": [
       "<div>\n",
       "<style scoped>\n",
       "    .dataframe tbody tr th:only-of-type {\n",
       "        vertical-align: middle;\n",
       "    }\n",
       "\n",
       "    .dataframe tbody tr th {\n",
       "        vertical-align: top;\n",
       "    }\n",
       "\n",
       "    .dataframe thead th {\n",
       "        text-align: right;\n",
       "    }\n",
       "</style>\n",
       "<table border=\"1\" class=\"dataframe\">\n",
       "  <thead>\n",
       "    <tr style=\"text-align: right;\">\n",
       "      <th></th>\n",
       "      <th>text</th>\n",
       "      <th>stance</th>\n",
       "    </tr>\n",
       "  </thead>\n",
       "  <tbody>\n",
       "    <tr>\n",
       "      <th>642</th>\n",
       "      <td>Guns should be banned because they are not nee...</td>\n",
       "      <td>prefers strict gun control</td>\n",
       "    </tr>\n",
       "    <tr>\n",
       "      <th>643</th>\n",
       "      <td>Yes, guns should be banned. Guns provide a tri...</td>\n",
       "      <td>prefers strict gun control</td>\n",
       "    </tr>\n",
       "    <tr>\n",
       "      <th>644</th>\n",
       "      <td>If you look at history, the first thing empire...</td>\n",
       "      <td>prefers strict gun control</td>\n",
       "    </tr>\n",
       "    <tr>\n",
       "      <th>645</th>\n",
       "      <td>Yes that might be true but are you suggesting ...</td>\n",
       "      <td>prefers strict gun control</td>\n",
       "    </tr>\n",
       "    <tr>\n",
       "      <th>646</th>\n",
       "      <td>Gun control is misguided. When guns become ill...</td>\n",
       "      <td>prefers strict gun control</td>\n",
       "    </tr>\n",
       "    <tr>\n",
       "      <th>...</th>\n",
       "      <td>...</td>\n",
       "      <td>...</td>\n",
       "    </tr>\n",
       "    <tr>\n",
       "      <th>15240</th>\n",
       "      <td>Yes, the fire arms should be banned. But if th...</td>\n",
       "      <td>opposes strict gun control</td>\n",
       "    </tr>\n",
       "    <tr>\n",
       "      <th>15241</th>\n",
       "      <td>Herein lies one of my biggest contentions rega...</td>\n",
       "      <td>opposes strict gun control</td>\n",
       "    </tr>\n",
       "    <tr>\n",
       "      <th>15242</th>\n",
       "      <td>Making firearms illegal only stops law abiding...</td>\n",
       "      <td>opposes strict gun control</td>\n",
       "    </tr>\n",
       "    <tr>\n",
       "      <th>15243</th>\n",
       "      <td>Yeah, I thought that was hilarious.</td>\n",
       "      <td>opposes strict gun control</td>\n",
       "    </tr>\n",
       "    <tr>\n",
       "      <th>15244</th>\n",
       "      <td>Dont you believe in the right to bear arms? to...</td>\n",
       "      <td>opposes strict gun control</td>\n",
       "    </tr>\n",
       "  </tbody>\n",
       "</table>\n",
       "<p>6102 rows × 2 columns</p>\n",
       "</div>"
      ],
      "text/plain": [
       "                                                    text  \\\n",
       "642    Guns should be banned because they are not nee...   \n",
       "643    Yes, guns should be banned. Guns provide a tri...   \n",
       "644    If you look at history, the first thing empire...   \n",
       "645    Yes that might be true but are you suggesting ...   \n",
       "646    Gun control is misguided. When guns become ill...   \n",
       "...                                                  ...   \n",
       "15240  Yes, the fire arms should be banned. But if th...   \n",
       "15241  Herein lies one of my biggest contentions rega...   \n",
       "15242  Making firearms illegal only stops law abiding...   \n",
       "15243                Yeah, I thought that was hilarious.   \n",
       "15244  Dont you believe in the right to bear arms? to...   \n",
       "\n",
       "                           stance  \n",
       "642    prefers strict gun control  \n",
       "643    prefers strict gun control  \n",
       "644    prefers strict gun control  \n",
       "645    prefers strict gun control  \n",
       "646    prefers strict gun control  \n",
       "...                           ...  \n",
       "15240  opposes strict gun control  \n",
       "15241  opposes strict gun control  \n",
       "15242  opposes strict gun control  \n",
       "15243  opposes strict gun control  \n",
       "15244  opposes strict gun control  \n",
       "\n",
       "[6102 rows x 2 columns]"
      ]
     },
     "execution_count": 111,
     "metadata": {},
     "output_type": "execute_result"
    }
   ],
   "source": [
    "df_credb"
   ]
  },
  {
   "cell_type": "code",
   "execution_count": 125,
   "id": "f8948cc9-a37a-49e9-a0b7-fd80fbbce2f4",
   "metadata": {},
   "outputs": [
    {
     "data": {
      "text/plain": [
       "{'opposes strict gun control': 0, 'prefers strict gun control': 1}"
      ]
     },
     "execution_count": 125,
     "metadata": {},
     "output_type": "execute_result"
    }
   ],
   "source": [
    "#Encoding the stance, which is our target class\n",
    "import numpy as np\n",
    "\n",
    "if type(df_credb.stance.iloc[1]) is str:\n",
    "    class_mapping = {label: idx for idx, label in \n",
    "                    enumerate(np.unique(df_credb['stance']))}\n",
    "\n",
    "class_mapping"
   ]
  },
  {
   "cell_type": "code",
   "execution_count": 126,
   "id": "bdaeac1c-2fd5-405f-a753-0e8e6da99c91",
   "metadata": {},
   "outputs": [
    {
     "data": {
      "text/plain": [
       "1    3051\n",
       "0    3051\n",
       "Name: stance, dtype: int64"
      ]
     },
     "execution_count": 126,
     "metadata": {},
     "output_type": "execute_result"
    }
   ],
   "source": [
    "#Prevents accidentally overwriting the \n",
    "if type(df_credb.stance.iloc[1]) is str:\n",
    "    df_credb['stance'] = df_credb['stance'].map(class_mapping)\n",
    "\n",
    "df_credb.stance.value_counts()"
   ]
  },
  {
   "cell_type": "code",
   "execution_count": 127,
   "id": "dfb4b10f-f679-4cd3-9708-cb20e8203d07",
   "metadata": {},
   "outputs": [
    {
     "data": {
      "text/html": [
       "<div>\n",
       "<style scoped>\n",
       "    .dataframe tbody tr th:only-of-type {\n",
       "        vertical-align: middle;\n",
       "    }\n",
       "\n",
       "    .dataframe tbody tr th {\n",
       "        vertical-align: top;\n",
       "    }\n",
       "\n",
       "    .dataframe thead th {\n",
       "        text-align: right;\n",
       "    }\n",
       "</style>\n",
       "<table border=\"1\" class=\"dataframe\">\n",
       "  <thead>\n",
       "    <tr style=\"text-align: right;\">\n",
       "      <th></th>\n",
       "      <th>text</th>\n",
       "      <th>stance</th>\n",
       "    </tr>\n",
       "  </thead>\n",
       "  <tbody>\n",
       "    <tr>\n",
       "      <th>642</th>\n",
       "      <td>Guns should be banned because they are not nee...</td>\n",
       "      <td>1</td>\n",
       "    </tr>\n",
       "    <tr>\n",
       "      <th>643</th>\n",
       "      <td>Yes, guns should be banned. Guns provide a tri...</td>\n",
       "      <td>1</td>\n",
       "    </tr>\n",
       "    <tr>\n",
       "      <th>644</th>\n",
       "      <td>If you look at history, the first thing empire...</td>\n",
       "      <td>1</td>\n",
       "    </tr>\n",
       "    <tr>\n",
       "      <th>645</th>\n",
       "      <td>Yes that might be true but are you suggesting ...</td>\n",
       "      <td>1</td>\n",
       "    </tr>\n",
       "    <tr>\n",
       "      <th>646</th>\n",
       "      <td>Gun control is misguided. When guns become ill...</td>\n",
       "      <td>1</td>\n",
       "    </tr>\n",
       "    <tr>\n",
       "      <th>...</th>\n",
       "      <td>...</td>\n",
       "      <td>...</td>\n",
       "    </tr>\n",
       "    <tr>\n",
       "      <th>15240</th>\n",
       "      <td>Yes, the fire arms should be banned. But if th...</td>\n",
       "      <td>0</td>\n",
       "    </tr>\n",
       "    <tr>\n",
       "      <th>15241</th>\n",
       "      <td>Herein lies one of my biggest contentions rega...</td>\n",
       "      <td>0</td>\n",
       "    </tr>\n",
       "    <tr>\n",
       "      <th>15242</th>\n",
       "      <td>Making firearms illegal only stops law abiding...</td>\n",
       "      <td>0</td>\n",
       "    </tr>\n",
       "    <tr>\n",
       "      <th>15243</th>\n",
       "      <td>Yeah, I thought that was hilarious.</td>\n",
       "      <td>0</td>\n",
       "    </tr>\n",
       "    <tr>\n",
       "      <th>15244</th>\n",
       "      <td>Dont you believe in the right to bear arms? to...</td>\n",
       "      <td>0</td>\n",
       "    </tr>\n",
       "  </tbody>\n",
       "</table>\n",
       "<p>6102 rows × 2 columns</p>\n",
       "</div>"
      ],
      "text/plain": [
       "                                                    text  stance\n",
       "642    Guns should be banned because they are not nee...       1\n",
       "643    Yes, guns should be banned. Guns provide a tri...       1\n",
       "644    If you look at history, the first thing empire...       1\n",
       "645    Yes that might be true but are you suggesting ...       1\n",
       "646    Gun control is misguided. When guns become ill...       1\n",
       "...                                                  ...     ...\n",
       "15240  Yes, the fire arms should be banned. But if th...       0\n",
       "15241  Herein lies one of my biggest contentions rega...       0\n",
       "15242  Making firearms illegal only stops law abiding...       0\n",
       "15243                Yeah, I thought that was hilarious.       0\n",
       "15244  Dont you believe in the right to bear arms? to...       0\n",
       "\n",
       "[6102 rows x 2 columns]"
      ]
     },
     "execution_count": 127,
     "metadata": {},
     "output_type": "execute_result"
    }
   ],
   "source": [
    "df_credb"
   ]
  },
  {
   "cell_type": "code",
   "execution_count": null,
   "id": "dadb8087-0c2a-4266-8866-49a434b3416b",
   "metadata": {},
   "outputs": [],
   "source": []
  }
 ],
 "metadata": {
  "kernelspec": {
   "display_name": "Python 3 (ipykernel)",
   "language": "python",
   "name": "python3"
  },
  "language_info": {
   "codemirror_mode": {
    "name": "ipython",
    "version": 3
   },
   "file_extension": ".py",
   "mimetype": "text/x-python",
   "name": "python",
   "nbconvert_exporter": "python",
   "pygments_lexer": "ipython3",
   "version": "3.9.16"
  }
 },
 "nbformat": 4,
 "nbformat_minor": 5
}
