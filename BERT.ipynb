{
 "cells": [
  {
   "cell_type": "code",
   "execution_count": 1,
   "id": "42c59e43-d618-4eed-9c25-6b62657e0339",
   "metadata": {},
   "outputs": [
    {
     "name": "stderr",
     "output_type": "stream",
     "text": [
      "2023-05-07 19:50:04.106174: I tensorflow/stream_executor/platform/default/dso_loader.cc:49] Successfully opened dynamic library libcudart.so.10.1\n"
     ]
    }
   ],
   "source": [
    "import tensorflow as tf\n",
    "import pandas as pd\n",
    "\n",
    "#df_4forums = pd.read_json('4ForumsResults.json') # This file is too large to go through git\n",
    "df_conme = pd.read_excel('convinceMe.xlsx')\n",
    "df_credb = pd.read_excel('createDebate.xlsx')\n"
   ]
  },
  {
   "cell_type": "code",
   "execution_count": 2,
   "id": "4108d050-b1fb-443d-92fa-bf0ad9849b19",
   "metadata": {
    "scrolled": true,
    "tags": []
   },
   "outputs": [
    {
     "name": "stdout",
     "output_type": "stream",
     "text": [
      "Requirement already satisfied: transformers in /users/samyao/.conda/envs/ML/lib/python3.9/site-packages (4.24.0)\n",
      "Requirement already satisfied: packaging>=20.0 in /users/samyao/.conda/envs/ML/lib/python3.9/site-packages (from transformers) (23.0)\n",
      "Requirement already satisfied: pyyaml>=5.1 in /users/samyao/.conda/envs/ML/lib/python3.9/site-packages (from transformers) (6.0)\n",
      "Requirement already satisfied: regex!=2019.12.17 in /users/samyao/.conda/envs/ML/lib/python3.9/site-packages (from transformers) (2022.7.9)\n",
      "Requirement already satisfied: tokenizers!=0.11.3,<0.14,>=0.11.1 in /users/samyao/.conda/envs/ML/lib/python3.9/site-packages (from transformers) (0.11.4)\n",
      "Requirement already satisfied: filelock in /users/samyao/.conda/envs/ML/lib/python3.9/site-packages (from transformers) (3.9.0)\n",
      "Requirement already satisfied: requests in /users/samyao/.conda/envs/ML/lib/python3.9/site-packages (from transformers) (2.29.0)\n",
      "Requirement already satisfied: numpy>=1.17 in /users/samyao/.conda/envs/ML/lib/python3.9/site-packages (from transformers) (1.21.5)\n",
      "Requirement already satisfied: tqdm>=4.27 in /users/samyao/.conda/envs/ML/lib/python3.9/site-packages (from transformers) (4.65.0)\n",
      "Requirement already satisfied: huggingface-hub<1.0,>=0.10.0 in /users/samyao/.conda/envs/ML/lib/python3.9/site-packages (from transformers) (0.10.1)\n",
      "Requirement already satisfied: typing-extensions>=3.7.4.3 in /users/samyao/.conda/envs/ML/lib/python3.9/site-packages (from huggingface-hub<1.0,>=0.10.0->transformers) (4.5.0)\n",
      "Requirement already satisfied: idna<4,>=2.5 in /users/samyao/.conda/envs/ML/lib/python3.9/site-packages (from requests->transformers) (3.4)\n",
      "Requirement already satisfied: charset-normalizer<4,>=2 in /users/samyao/.conda/envs/ML/lib/python3.9/site-packages (from requests->transformers) (2.0.4)\n",
      "Requirement already satisfied: urllib3<1.27,>=1.21.1 in /users/samyao/.conda/envs/ML/lib/python3.9/site-packages (from requests->transformers) (1.26.15)\n",
      "Requirement already satisfied: certifi>=2017.4.17 in /users/samyao/.conda/envs/ML/lib/python3.9/site-packages (from requests->transformers) (2022.12.7)\n",
      "Note: you may need to restart the kernel to use updated packages.\n"
     ]
    },
    {
     "name": "stderr",
     "output_type": "stream",
     "text": [
      "Some weights of the model checkpoint at bert-base-uncased were not used when initializing BertModel: ['cls.predictions.transform.dense.bias', 'cls.predictions.transform.LayerNorm.bias', 'cls.predictions.bias', 'cls.seq_relationship.bias', 'cls.seq_relationship.weight', 'cls.predictions.decoder.weight', 'cls.predictions.transform.dense.weight', 'cls.predictions.transform.LayerNorm.weight']\n",
      "- This IS expected if you are initializing BertModel from the checkpoint of a model trained on another task or with another architecture (e.g. initializing a BertForSequenceClassification model from a BertForPreTraining model).\n",
      "- This IS NOT expected if you are initializing BertModel from the checkpoint of a model that you expect to be exactly identical (initializing a BertForSequenceClassification model from a BertForSequenceClassification model).\n"
     ]
    }
   ],
   "source": [
    "# install transformers if not already installed\n",
    "%pip install transformers\n",
    "\n",
    "#import the BERT model and tokenizer\n",
    "from transformers import BertModel, BertTokenizer\n",
    "\n",
    "if 'bertModel' not in locals() or 'tokenizer' not in locals():\n",
    "    #BERT base model\n",
    "    bertModel = BertModel.from_pretrained('bert-base-uncased')\n",
    "    \n",
    "    #BERT Tokenizer\n",
    "    tokenizer = BertTokenizer.from_pretrained('bert-base-uncased')"
   ]
  },
  {
   "cell_type": "code",
   "execution_count": 3,
   "id": "c0b6e797-21d5-4114-a65d-601368f9bf1b",
   "metadata": {},
   "outputs": [
    {
     "data": {
      "text/plain": [
       "unknown                       3051\n",
       "prefers strict gun control    3051\n",
       "opposes strict gun control    3051\n",
       "undecided                     3051\n",
       "other                         3051\n",
       "Name: stance, dtype: int64"
      ]
     },
     "execution_count": 3,
     "metadata": {},
     "output_type": "execute_result"
    }
   ],
   "source": [
    "df_credb.stance.value_counts()"
   ]
  },
  {
   "cell_type": "code",
   "execution_count": 4,
   "id": "08aa7c8d-2750-4973-ab94-0b80b28becd1",
   "metadata": {
    "scrolled": true,
    "tags": []
   },
   "outputs": [
    {
     "data": {
      "text/plain": [
       "undecided                                                                      149210\n",
       "other                                                                          148799\n",
       "unknown                                                                        148387\n",
       "evolution occurs via purely natural mechanisms                                  42309\n",
       "evolution does not occur                                                        42309\n",
       "evolution involves more than purely natural mechanisms (intelligent design)     42309\n",
       "pro-choice                                                                      36668\n",
       "pro-life                                                                        36668\n",
       "opposes strict gun control                                                      35966\n",
       "prefers strict gun control                                                      35966\n",
       "gay marriage should be legal                                                    18895\n",
       "gay marriage should be illegal                                                  18895\n",
       "theist                                                                           6073\n",
       "atheist                                                                          6073\n",
       "opposes death penalty                                                            2416\n",
       "supports death penalty                                                           2416\n",
       "humans not responsible                                                           2375\n",
       "humans responsible                                                               2375\n",
       "communism better                                                                 1225\n",
       "capitalism better                                                                1225\n",
       "marijuana use should be legal                                                     720\n",
       "marijuana use should be illegal                                                   720\n",
       "marijuana use should be legal for medical purposes only                           720\n",
       "YES to School Uniforms                                                            648\n",
       "NO to School Uniforms                                                             648\n",
       "Unknown                                                                           648\n",
       "Yes to obamacare and health care reform                                           615\n",
       "No to obamacare and health care reform                                            615\n",
       "NO women in combat                                                                338\n",
       "YES women should be able to fight                                                 338\n",
       "Vegetarian diet is the best                                                       221\n",
       "People need to eat meat                                                           221\n",
       "immigration is good for the country                                               219\n",
       "stop illegal immigration                                                          219\n",
       "legalize prostitution                                                             192\n",
       "don't legalize prostitution                                                       192\n",
       "PRO minimum wage                                                                  175\n",
       "CON minimum wage                                                                  175\n",
       "No GAYS or DADT                                                                   123\n",
       "Yes of course Gays should be in the military                                      123\n",
       "medical care paid for by individuals and subject to the free market                32\n",
       "medical care paid for by govt. or mandated insurance                               32\n",
       "Name: stance, dtype: int64"
      ]
     },
     "execution_count": 4,
     "metadata": {},
     "output_type": "execute_result"
    }
   ],
   "source": [
    "df_4forums.stance.value_counts()"
   ]
  },
  {
   "cell_type": "code",
   "execution_count": 5,
   "id": "2f62cf0a-b86c-4f74-b052-c5376635c4b8",
   "metadata": {
    "scrolled": true,
    "tags": []
   },
   "outputs": [
    {
     "data": {
      "text/plain": [
       "gay marriage should be legal                                                   622\n",
       "pro-choice                                                                     583\n",
       "atheist                                                                        551\n",
       "evolution occurs via purely natural mechanisms                                 498\n",
       "pro-life                                                                       494\n",
       "theist                                                                         447\n",
       "evolution involves more than purely natural mechanisms (intelligent design)    384\n",
       "gay marriage should be illegal                                                 349\n",
       "opposes death penalty                                                          322\n",
       "marijuana use should be legal                                                  304\n",
       "supports death penalty                                                         278\n",
       "opposes strict gun control                                                     217\n",
       "humans not responsible                                                         194\n",
       "prefers strict gun control                                                     174\n",
       "humans responsible                                                             174\n",
       "marijuana use should be illegal                                                142\n",
       "capitalism better                                                              125\n",
       "stop illegal immigration                                                       108\n",
       "communism better                                                               106\n",
       "legalize prostitution                                                           88\n",
       "immigration is good for the country                                             87\n",
       "No to obamacare and health care reform                                          76\n",
       "don't legalize prostitution                                                     57\n",
       "Yes to obamacare and health care reform                                         51\n",
       "pro Israel                                                                      38\n",
       "pro Palestine                                                                   29\n",
       "Vegetarian diet is the best                                                     29\n",
       "People need to eat meat                                                         29\n",
       "YES women should be able to fight                                               19\n",
       "NO women in combat                                                              15\n",
       "marijuana use should be legal for medical purposes only                          9\n",
       "CON minimum wage                                                                 9\n",
       "PRO minimum wage                                                                 8\n",
       "Name: stance, dtype: int64"
      ]
     },
     "execution_count": 5,
     "metadata": {},
     "output_type": "execute_result"
    }
   ],
   "source": [
    "df_conme.stance.value_counts()"
   ]
  },
  {
   "cell_type": "code",
   "execution_count": 6,
   "id": "e22a5d8c-d124-4473-b1fc-bc27c32909a9",
   "metadata": {},
   "outputs": [],
   "source": [
    "import torch\n",
    "import torch.nn as nn\n",
    "import torch.optim as optim\n",
    "from torch.utils.data import DataLoader, Dataset"
   ]
  },
  {
   "cell_type": "code",
   "execution_count": 7,
   "id": "b5920349-1ec1-4a29-866e-756d6f689d88",
   "metadata": {},
   "outputs": [],
   "source": [
    "class BertClassifier(nn.Module):\n",
    "    def __init__(self, num_classes):\n",
    "        super().__init__()\n",
    "        self.bert = model\n",
    "        self.dropout = nn.Dropout(0.1)\n",
    "        self.fc = nn.Linear(768, num_classes)\n",
    "\n",
    "    def forward(self, input_ids, attention_mask):\n",
    "        outputs = self.bert(input_ids=input_ids, attention_mask=attention_mask)\n",
    "        pooled_output = outputs[1]\n",
    "        pooled_output = self.dropout(pooled_output)\n",
    "        logits = self.fc(pooled_output)\n",
    "        return logits"
   ]
  },
  {
   "cell_type": "code",
   "execution_count": null,
   "id": "86910e78-2a74-43ba-852f-567f2eaafa8d",
   "metadata": {},
   "outputs": [],
   "source": []
  }
 ],
 "metadata": {
  "kernelspec": {
   "display_name": "Python 3 (ipykernel)",
   "language": "python",
   "name": "python3"
  },
  "language_info": {
   "codemirror_mode": {
    "name": "ipython",
    "version": 3
   },
   "file_extension": ".py",
   "mimetype": "text/x-python",
   "name": "python",
   "nbconvert_exporter": "python",
   "pygments_lexer": "ipython3",
   "version": "3.9.16"
  }
 },
 "nbformat": 4,
 "nbformat_minor": 5
}
