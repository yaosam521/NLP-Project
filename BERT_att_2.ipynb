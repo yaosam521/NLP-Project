{
 "cells": [
  {
   "cell_type": "code",
   "execution_count": 2,
   "id": "abc29a24-5a8c-4606-a159-6b33eee87b68",
   "metadata": {},
   "outputs": [],
   "source": [
    "import tensorflow as tf\n",
    "import pandas as pd\n",
    "\n",
    "#df_4forums = pd.read_json('4ForumsResults.json') # This file is too large to go through git\n",
    "#df_conme = pd.read_excel('convinceMe.xlsx')\n",
    "df_credb = pd.read_excel('createDebate.xlsx')\n",
    "df_credb = df_credb.query(\"stance == 'prefers strict gun control' | stance == 'opposes strict gun control'\")\n",
    "df_credb = df_credb[[\"text\", \"stance\"]]\n",
    "#Encoding the stance, which is our target class\n",
    "import numpy as np\n",
    "\n",
    "if type(df_credb.stance.iloc[1]) is str:\n",
    "    class_mapping = {label: idx for idx, label in \n",
    "                    enumerate(np.unique(df_credb['stance']))}\n",
    "#Prevents accidentally overwriting the \n",
    "if type(df_credb.stance.iloc[1]) is str:\n",
    "    df_credb['stance'] = df_credb['stance'].map(class_mapping)\n",
    "    \n",
    "oppose = df_credb.query(\"stance == 0\")\n",
    "support = df_credb.query(\"stance == 1\")\n",
    "\n",
    "oppose = oppose[:100]\n",
    "support = support[:100]\n",
    "\n",
    "df_reduced = pd.concat([support,oppose])"
   ]
  },
  {
   "cell_type": "code",
   "execution_count": null,
   "id": "e4fd8eb1-c95a-4e82-b215-e14a51a00941",
   "metadata": {},
   "outputs": [],
   "source": [
    "#import the BERT model and tokenizer\n",
    "from transformers import TFBertModel, BertTokenizer\n",
    "\n",
    "if 'bertModel' not in locals() or 'tokenizer' not in locals():\n",
    "    #BERT base model\n",
    "    bertModel = TFBertModel.from_pretrained('bert-base-uncased')\n",
    "    \n",
    "    #BERT Tokenizer\n",
    "    tokenizer = BertTokenizer.from_pretrained('bert-base-uncased')"
   ]
  },
  {
   "cell_type": "code",
   "execution_count": null,
   "id": "820c9ec6-3176-4431-8c68-719ea81705dc",
   "metadata": {},
   "outputs": [],
   "source": [
    "# Define some example data\n",
    "texts = df_reduced.text.values.tolist()\n",
    "labels = df_reduced.stance.values.tolist()\n",
    "\n",
    "tokens = tokenizer(texts, padding=True, truncation=True, return_tensors='np') #Use Tensorflow for faster training\n",
    "\n"
   ]
  }
 ],
 "metadata": {
  "kernelspec": {
   "display_name": "Python 3 (ipykernel)",
   "language": "python",
   "name": "python3"
  },
  "language_info": {
   "codemirror_mode": {
    "name": "ipython",
    "version": 3
   },
   "file_extension": ".py",
   "mimetype": "text/x-python",
   "name": "python",
   "nbconvert_exporter": "python",
   "pygments_lexer": "ipython3",
   "version": "3.9.16"
  }
 },
 "nbformat": 4,
 "nbformat_minor": 5
}
